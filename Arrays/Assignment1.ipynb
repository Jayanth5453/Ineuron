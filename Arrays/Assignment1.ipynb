{
 "cells": [
  {
   "cell_type": "markdown",
   "metadata": {},
   "source": [
    "💡 **Q1.** Given an array of integers nums and an integer target, return indices of the two numbers such that they add up to target.\n",
    "\n",
    "You may assume that each input would have exactly one solution, and you may not use the same element twice.\n",
    "\n",
    "You can return the answer in any order.\n",
    "\n",
    "**Example:**\n",
    "Input: nums = [2,7,11,15], target = 9\n",
    "Output0 [0,1]\n",
    "\n",
    "**Explanation:** Because nums[0] + nums[1] == 9, we return [0, 1][\n"
   ]
  },
  {
   "cell_type": "code",
   "execution_count": 17,
   "metadata": {},
   "outputs": [
    {
     "name": "stdout",
     "output_type": "stream",
     "text": [
      "Array of integers: [6, 4, 6, 4, 7, 8, 9, 3]\n",
      "Target value: 15\n",
      "Index of the two numbers: [4, 5]\n"
     ]
    }
   ],
   "source": [
    "def compare(nums, target):\n",
    "    dict = {}\n",
    "    for i, num in enumerate(nums):\n",
    "        num2 = target - num\n",
    "        if num2 in dict:\n",
    "            return [dict[num2], i]\n",
    "        dict[num] = i\n",
    "    return []\n",
    "\n",
    "nums = input(\"Enter the array followed by space : \").split()\n",
    "nums = [int(num) for num in nums]\n",
    "\n",
    "target = int(input(\"Enter the target value: \"))\n",
    "\n",
    "result = compare(nums, target)\n",
    "print(\"Input Array:\", nums)\n",
    "print(\"Target value:\", target)\n",
    "\n",
    "if result:\n",
    "    print(\"Index of the two numbers:\", result)\n",
    "else:\n",
    "    print(\"No sum of two numbers found that equals to target.\")"
   ]
  },
  {
   "cell_type": "markdown",
   "metadata": {},
   "source": [
    "Q2. Given an integer array nums and an integer val, remove all occurrences of val in nums in-place. The order of the elements may be changed. Then return the number of elements in nums which are not equal to val.\n",
    "\n",
    "Consider the number of elements in nums which are not equal to val be k, to get accepted, you need to do the following things:\n",
    "\n",
    "Change the array nums such that the first k elements of nums contain the elements which are not equal to val. The remaining elements of nums are not important as well as the size of nums.\n",
    "Return k.\n",
    "Example : Input: nums = [3,2,2,3], val = 3 Output: 2, nums = [2,2,*,*]\n",
    "\n",
    "Explanation: Your function should return k = 2, with the first two elements of nums being 2. It does not matter what you leave beyond the returned k (hence they are underscores)["
   ]
  },
  {
   "cell_type": "code",
   "execution_count": 41,
   "metadata": {},
   "outputs": [
    {
     "name": "stdout",
     "output_type": "stream",
     "text": [
      "Input Array: ['6', '4', '6', '4', '3', '4', '3', '4']\n",
      "Value to remove: 4\n",
      "Count of elements not equal to val: 4\n"
     ]
    }
   ],
   "source": [
    "def remove(nums, val):\n",
    "    j = 0\n",
    "    for num in nums:\n",
    "        if num != val:\n",
    "            nums[j] = num\n",
    "            j += 1\n",
    "    return j\n",
    "\n",
    "nums1 = input(\"Enter the array followed by space : \").split()\n",
    "nums = [int(num) for num in nums1]\n",
    "\n",
    "val = int(input(\"Enter the value to remove: \"))\n",
    "\n",
    "ot = remove(nums, val)\n",
    "\n",
    "print(\"Input Array:\", nums1)\n",
    "print(\"Value to remove:\", val)\n",
    "print(\"Count of elements not equal to val:\", ot)"
   ]
  },
  {
   "cell_type": "markdown",
   "metadata": {},
   "source": [
    "Q4. You are given a large integer represented as an integer array digits, where each digits[i] is the ith digit of the integer. The digits are ordered from most significant to least significant in left-to-right order. The large integer does not contain any leading 0's.\n",
    "\n",
    "Increment the large integer by one and return the resulting array of digits.\n",
    "\n",
    "Example 1: Input: digits = [1,2,3] Output: [1,2,4]\n",
    "\n",
    "Explanation: The array represents the integer 123.\n",
    "\n",
    "Incrementing by one gives 123 + 1 = 124. Thus, the result should be [1,2,4]."
   ]
  },
  {
   "cell_type": "code",
   "execution_count": 61,
   "metadata": {},
   "outputs": [
    {
     "name": "stdout",
     "output_type": "stream",
     "text": [
      "Input Array: [19, 9, 7]\n",
      "Output: 1998\n"
     ]
    }
   ],
   "source": [
    "def increase(digits):\n",
    "    n = len(digits)\n",
    "    for dig in range(n - 1, -1, -1):\n",
    "        digits[dig] += 1\n",
    "        if digits[dig] < 10:\n",
    "            return digits\n",
    "        else:\n",
    "            digits[dig] = 0\n",
    "    digits.insert(0, 1)\n",
    "    return digits\n",
    "\n",
    "digits = input(\"Enter the array followed by space : \").split()\n",
    "digits = [int(digit) for digit in digits]\n",
    "\n",
    "print(\"Input Array:\", digits)\n",
    "\n",
    "result = increase(digits)\n",
    "\n",
    "output = int(''.join(map(str, result)))\n",
    "\n",
    "print(\"Output:\", output)"
   ]
  },
  {
   "cell_type": "markdown",
   "metadata": {},
   "source": [
    "Q6. Given an integer array nums, return true if any value appears at least twice in the array, and return false if every element is distinct.\n",
    "\n",
    "Example 1: Input: nums = [1,2,3,1]\n",
    "\n",
    "Output: true"
   ]
  },
  {
   "cell_type": "code",
   "execution_count": 70,
   "metadata": {},
   "outputs": [
    {
     "name": "stdout",
     "output_type": "stream",
     "text": [
      "Input: [45, 6, 5, 6, 2]\n",
      "Output: True\n"
     ]
    }
   ],
   "source": [
    "def repeated(nums):\n",
    "    num_set = set()\n",
    "    for i in nums:\n",
    "        if i in num_set:\n",
    "            return True\n",
    "        num_set.add(i)\n",
    "    return False\n",
    "\n",
    "nums = input(\"Enter the array followed by space : \").split()\n",
    "nums = [int(num) for num in nums]\n",
    "\n",
    "print(\"Input:\", nums)\n",
    "\n",
    "result = repeated(nums)\n",
    "\n",
    "print(\"Output:\", result)"
   ]
  },
  {
   "cell_type": "code",
   "execution_count": null,
   "metadata": {},
   "outputs": [],
   "source": []
  }
 ],
 "metadata": {
  "kernelspec": {
   "display_name": "Python 3.9.13 ('inneuron')",
   "language": "python",
   "name": "python3"
  },
  "language_info": {
   "codemirror_mode": {
    "name": "ipython",
    "version": 3
   },
   "file_extension": ".py",
   "mimetype": "text/x-python",
   "name": "python",
   "nbconvert_exporter": "python",
   "pygments_lexer": "ipython3",
   "version": "3.9.13"
  },
  "orig_nbformat": 4,
  "vscode": {
   "interpreter": {
    "hash": "8d5fa25884562255630c661242490c7067f22b217630e330385c0ff92bebb1f5"
   }
  }
 },
 "nbformat": 4,
 "nbformat_minor": 2
}
