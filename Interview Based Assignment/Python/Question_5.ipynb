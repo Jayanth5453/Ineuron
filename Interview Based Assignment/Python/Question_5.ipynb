{
 "cells": [
  {
   "cell_type": "code",
   "execution_count": 1,
   "metadata": {},
   "outputs": [
    {
     "data": {
      "text/plain": [
       "4"
      ]
     },
     "execution_count": 1,
     "metadata": {},
     "output_type": "execute_result"
    }
   ],
   "source": [
    "2+2"
   ]
  },
  {
   "cell_type": "markdown",
   "metadata": {},
   "source": [
    "Q5.Write a program to download the data from the given API link and then extract the following data with\n",
    "proper formatting\n",
    "\n",
    "Link - http://api.tvmaze.com/singlesearch/shows?q=westworld&embed=episodes"
   ]
  },
  {
   "cell_type": "code",
   "execution_count": 3,
   "metadata": {},
   "outputs": [],
   "source": [
    "#importing required libraries\n",
    "import pandas as pd\n",
    "import requests\n"
   ]
  },
  {
   "cell_type": "code",
   "execution_count": 56,
   "metadata": {},
   "outputs": [],
   "source": [
    "url = \"http://api.tvmaze.com/singlesearch/shows?q=westworld&embed=episodes\"\n",
    "response = requests.get(url)\n",
    "data = response.json()"
   ]
  },
  {
   "cell_type": "code",
   "execution_count": 59,
   "metadata": {},
   "outputs": [],
   "source": [
    "extracted_data = []\n",
    "for episode in data['_embedded']['episodes']:\n",
    "    dict = {}\n",
    "    dict['id'] = episode['id']\n",
    "    dict['url'] = data['url']\n",
    "    dict['name'] = data['name']\n",
    "    dict['season'] = episode['season']\n",
    "    dict['number'] = episode['number']\n",
    "    dict['type'] = episode['type']\n",
    "    dict['airdate'] = episode['airdate']\n",
    "    dict['airtime'] = episode['airtime']\n",
    "    dict['runtime'] = episode['runtime']\n",
    "    dict['average_rating'] = episode['rating']['average']\n",
    "    dict['summary'] = episode['summary'].strip('<p>').strip('</p>')\n",
    "    dict['medium_image_link'] = data['image']['medium']\n",
    "    dict['original_image_link'] = data['image']['original']\n",
    "    extracted_data.append(dict)\n",
    "df=pd.DataFrame(extracted_data)"
   ]
  },
  {
   "cell_type": "code",
   "execution_count": 60,
   "metadata": {},
   "outputs": [
    {
     "data": {
      "text/html": [
       "<div>\n",
       "<style scoped>\n",
       "    .dataframe tbody tr th:only-of-type {\n",
       "        vertical-align: middle;\n",
       "    }\n",
       "\n",
       "    .dataframe tbody tr th {\n",
       "        vertical-align: top;\n",
       "    }\n",
       "\n",
       "    .dataframe thead th {\n",
       "        text-align: right;\n",
       "    }\n",
       "</style>\n",
       "<table border=\"1\" class=\"dataframe\">\n",
       "  <thead>\n",
       "    <tr style=\"text-align: right;\">\n",
       "      <th></th>\n",
       "      <th>id</th>\n",
       "      <th>url</th>\n",
       "      <th>name</th>\n",
       "      <th>season</th>\n",
       "      <th>number</th>\n",
       "      <th>type</th>\n",
       "      <th>airdate</th>\n",
       "      <th>airtime</th>\n",
       "      <th>runtime</th>\n",
       "      <th>average_rating</th>\n",
       "      <th>summary</th>\n",
       "      <th>medium_image_link</th>\n",
       "      <th>original_image_link</th>\n",
       "    </tr>\n",
       "  </thead>\n",
       "  <tbody>\n",
       "    <tr>\n",
       "      <th>0</th>\n",
       "      <td>869671</td>\n",
       "      <td>https://www.tvmaze.com/shows/1371/westworld</td>\n",
       "      <td>Westworld</td>\n",
       "      <td>1</td>\n",
       "      <td>1</td>\n",
       "      <td>regular</td>\n",
       "      <td>2016-10-02</td>\n",
       "      <td>21:00</td>\n",
       "      <td>68</td>\n",
       "      <td>8.0</td>\n",
       "      <td>A woman named Dolores is a free spirit in the ...</td>\n",
       "      <td>https://static.tvmaze.com/uploads/images/mediu...</td>\n",
       "      <td>https://static.tvmaze.com/uploads/images/origi...</td>\n",
       "    </tr>\n",
       "    <tr>\n",
       "      <th>1</th>\n",
       "      <td>911201</td>\n",
       "      <td>https://www.tvmaze.com/shows/1371/westworld</td>\n",
       "      <td>Westworld</td>\n",
       "      <td>1</td>\n",
       "      <td>2</td>\n",
       "      <td>regular</td>\n",
       "      <td>2016-10-09</td>\n",
       "      <td>21:00</td>\n",
       "      <td>60</td>\n",
       "      <td>7.7</td>\n",
       "      <td>Bernard suspects that someone is sabotaging th...</td>\n",
       "      <td>https://static.tvmaze.com/uploads/images/mediu...</td>\n",
       "      <td>https://static.tvmaze.com/uploads/images/origi...</td>\n",
       "    </tr>\n",
       "    <tr>\n",
       "      <th>2</th>\n",
       "      <td>911204</td>\n",
       "      <td>https://www.tvmaze.com/shows/1371/westworld</td>\n",
       "      <td>Westworld</td>\n",
       "      <td>1</td>\n",
       "      <td>3</td>\n",
       "      <td>regular</td>\n",
       "      <td>2016-10-16</td>\n",
       "      <td>21:00</td>\n",
       "      <td>60</td>\n",
       "      <td>7.6</td>\n",
       "      <td>Bernard continues to investigate Dolores' supp...</td>\n",
       "      <td>https://static.tvmaze.com/uploads/images/mediu...</td>\n",
       "      <td>https://static.tvmaze.com/uploads/images/origi...</td>\n",
       "    </tr>\n",
       "  </tbody>\n",
       "</table>\n",
       "</div>"
      ],
      "text/plain": [
       "       id                                          url       name  season   \n",
       "0  869671  https://www.tvmaze.com/shows/1371/westworld  Westworld       1  \\\n",
       "1  911201  https://www.tvmaze.com/shows/1371/westworld  Westworld       1   \n",
       "2  911204  https://www.tvmaze.com/shows/1371/westworld  Westworld       1   \n",
       "\n",
       "   number     type     airdate airtime  runtime  average_rating   \n",
       "0       1  regular  2016-10-02   21:00       68             8.0  \\\n",
       "1       2  regular  2016-10-09   21:00       60             7.7   \n",
       "2       3  regular  2016-10-16   21:00       60             7.6   \n",
       "\n",
       "                                             summary   \n",
       "0  A woman named Dolores is a free spirit in the ...  \\\n",
       "1  Bernard suspects that someone is sabotaging th...   \n",
       "2  Bernard continues to investigate Dolores' supp...   \n",
       "\n",
       "                                   medium_image_link   \n",
       "0  https://static.tvmaze.com/uploads/images/mediu...  \\\n",
       "1  https://static.tvmaze.com/uploads/images/mediu...   \n",
       "2  https://static.tvmaze.com/uploads/images/mediu...   \n",
       "\n",
       "                                 original_image_link  \n",
       "0  https://static.tvmaze.com/uploads/images/origi...  \n",
       "1  https://static.tvmaze.com/uploads/images/origi...  \n",
       "2  https://static.tvmaze.com/uploads/images/origi...  "
      ]
     },
     "execution_count": 60,
     "metadata": {},
     "output_type": "execute_result"
    }
   ],
   "source": [
    "df.head(3)"
   ]
  },
  {
   "cell_type": "code",
   "execution_count": 61,
   "metadata": {},
   "outputs": [
    {
     "name": "stdout",
     "output_type": "stream",
     "text": [
      "<class 'pandas.core.frame.DataFrame'>\n",
      "RangeIndex: 36 entries, 0 to 35\n",
      "Data columns (total 13 columns):\n",
      " #   Column               Non-Null Count  Dtype  \n",
      "---  ------               --------------  -----  \n",
      " 0   id                   36 non-null     int64  \n",
      " 1   url                  36 non-null     object \n",
      " 2   name                 36 non-null     object \n",
      " 3   season               36 non-null     int64  \n",
      " 4   number               36 non-null     int64  \n",
      " 5   type                 36 non-null     object \n",
      " 6   airdate              36 non-null     object \n",
      " 7   airtime              36 non-null     object \n",
      " 8   runtime              36 non-null     int64  \n",
      " 9   average_rating       36 non-null     float64\n",
      " 10  summary              36 non-null     object \n",
      " 11  medium_image_link    36 non-null     object \n",
      " 12  original_image_link  36 non-null     object \n",
      "dtypes: float64(1), int64(4), object(8)\n",
      "memory usage: 3.8+ KB\n"
     ]
    }
   ],
   "source": [
    "df.info()"
   ]
  },
  {
   "cell_type": "code",
   "execution_count": 62,
   "metadata": {},
   "outputs": [],
   "source": [
    "df.to_csv(\"shows.csv\", index=False,)"
   ]
  }
 ],
 "metadata": {
  "kernelspec": {
   "display_name": "Python 3.9.13 ('inneuron')",
   "language": "python",
   "name": "python3"
  },
  "language_info": {
   "codemirror_mode": {
    "name": "ipython",
    "version": 3
   },
   "file_extension": ".py",
   "mimetype": "text/x-python",
   "name": "python",
   "nbconvert_exporter": "python",
   "pygments_lexer": "ipython3",
   "version": "3.9.13"
  },
  "orig_nbformat": 4,
  "vscode": {
   "interpreter": {
    "hash": "8d5fa25884562255630c661242490c7067f22b217630e330385c0ff92bebb1f5"
   }
  }
 },
 "nbformat": 4,
 "nbformat_minor": 2
}
