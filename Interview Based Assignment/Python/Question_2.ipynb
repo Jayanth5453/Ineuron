{
 "cells": [
  {
   "cell_type": "markdown",
   "metadata": {},
   "source": [
    "Q2. Consider a string to be valid if all characters of the string appear the same number of times. It is also valid if\n",
    "he can remove just one character at the index in the string, and the remaining characters will occur the same\n",
    "number of times. Given a string, determine if it is valid. If so, return YES , otherwise return NO ."
   ]
  },
  {
   "cell_type": "code",
   "execution_count": 9,
   "metadata": {},
   "outputs": [],
   "source": [
    "def dontrepeat():\n",
    "    word = input().replace(' ','')\n",
    "    freq = {}\n",
    "    for char in word:\n",
    "        freq[char]=0 if char not in freq else freq[char]\n",
    "        freq[char]+=1\n",
    "    values = set(freq.values())   \n",
    "    print(\"Input entered :\", word)\n",
    "    print('Yes') if len(values)==1 else print('No')\n"
   ]
  },
  {
   "cell_type": "code",
   "execution_count": 11,
   "metadata": {},
   "outputs": [
    {
     "name": "stdout",
     "output_type": "stream",
     "text": [
      "Input entered : python\n",
      "Yes\n"
     ]
    }
   ],
   "source": [
    "dontrepeat()"
   ]
  },
  {
   "cell_type": "code",
   "execution_count": 12,
   "metadata": {},
   "outputs": [
    {
     "name": "stdout",
     "output_type": "stream",
     "text": [
      "Input entered : java\n",
      "No\n"
     ]
    }
   ],
   "source": [
    "dontrepeat()"
   ]
  }
 ],
 "metadata": {
  "kernelspec": {
   "display_name": "Python 3.9.13 ('inneuron')",
   "language": "python",
   "name": "python3"
  },
  "language_info": {
   "codemirror_mode": {
    "name": "ipython",
    "version": 3
   },
   "file_extension": ".py",
   "mimetype": "text/x-python",
   "name": "python",
   "nbconvert_exporter": "python",
   "pygments_lexer": "ipython3",
   "version": "3.9.13"
  },
  "orig_nbformat": 4,
  "vscode": {
   "interpreter": {
    "hash": "8d5fa25884562255630c661242490c7067f22b217630e330385c0ff92bebb1f5"
   }
  }
 },
 "nbformat": 4,
 "nbformat_minor": 2
}
