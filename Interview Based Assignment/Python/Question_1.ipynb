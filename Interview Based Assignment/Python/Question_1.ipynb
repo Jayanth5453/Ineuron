{
 "cells": [
  {
   "cell_type": "markdown",
   "metadata": {},
   "source": [
    "Q1. Write a program that takes a string as input, and counts the frequency of each word in the string, there might\n",
    "be repeated characters in the string. Your task is to find the highest frequency and returns the length of the\n",
    "highest-frequency word."
   ]
  },
  {
   "cell_type": "code",
   "execution_count": 1,
   "metadata": {},
   "outputs": [],
   "source": [
    "from collections import Counter\n",
    "\n",
    "def highest_freq_word_length():   \n",
    "    string = input(\"Enter a string: \")\n",
    "    words = string.split()\n",
    "    word_freq = Counter(words)\n",
    "    max_frequency = max(word_freq.values())\n",
    "    highest_freq_word = [word for word, freq in word_freq.items() if freq == max_frequency]\n",
    "    len_highest_freq_word = len(max(highest_freq_word))\n",
    "\n",
    "    print(\"Input entered :\", string)\n",
    "    print(f\"Explanation - From the given string we can note that the most frequent word is ' {highest_freq_word[0]} ' repeated ' {max_frequency} ' times and the length of the highest-frequency word is ' {len_highest_freq_word} '\")"
   ]
  },
  {
   "cell_type": "code",
   "execution_count": 2,
   "metadata": {},
   "outputs": [
    {
     "name": "stdout",
     "output_type": "stream",
     "text": [
      "Input entered : The boy in the dream wanted to go to school and from school with all the school mates wanted to go to the trip along with school teacher in school van\n",
      "Explanation - From the given string we can note that the most frequent word is ' school ' repeated ' 5 ' times and the length of the highest-frequency word is ' 6 '\n"
     ]
    }
   ],
   "source": [
    "highest_freq_word_length()\n"
   ]
  },
  {
   "cell_type": "code",
   "execution_count": 3,
   "metadata": {},
   "outputs": [
    {
     "name": "stdout",
     "output_type": "stream",
     "text": [
      "Input entered : The girl went to mart and girl saw her girl , girl girl firend \n",
      "Explanation - From the given string we can note that the most frequent word is ' girl ' repeated ' 5 ' times and the length of the highest-frequency word is ' 4 '\n"
     ]
    }
   ],
   "source": [
    "highest_freq_word_length()"
   ]
  }
 ],
 "metadata": {
  "kernelspec": {
   "display_name": "Python 3.9.13 ('inneuron')",
   "language": "python",
   "name": "python3"
  },
  "language_info": {
   "codemirror_mode": {
    "name": "ipython",
    "version": 3
   },
   "file_extension": ".py",
   "mimetype": "text/x-python",
   "name": "python",
   "nbconvert_exporter": "python",
   "pygments_lexer": "ipython3",
   "version": "3.9.13"
  },
  "orig_nbformat": 4,
  "vscode": {
   "interpreter": {
    "hash": "8d5fa25884562255630c661242490c7067f22b217630e330385c0ff92bebb1f5"
   }
  }
 },
 "nbformat": 4,
 "nbformat_minor": 2
}
