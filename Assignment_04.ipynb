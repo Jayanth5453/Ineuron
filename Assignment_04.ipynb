{
 "cells": [
  {
   "cell_type": "markdown",
   "id": "4d2ed0e4",
   "metadata": {},
   "source": [
    "#### 1.What exactly is `[]`?\n",
    "Ans: The empty list represented by `[]` is a list that contains no items."
   ]
  },
  {
   "cell_type": "markdown",
   "id": "b6e56852",
   "metadata": {},
   "source": [
    "#### 2.In a list of values stored in a variable called spam, how would you assign the value 'hello' as the third value? (Assume [2, 4, 6, 8, 10] are in spam.) \n",
    "Ans: `spam[2]='hello'`"
   ]
  },
  {
   "cell_type": "code",
   "execution_count": 19,
   "id": "737fb672",
   "metadata": {},
   "outputs": [
    {
     "name": "stdout",
     "output_type": "stream",
     "text": [
      "[2, 4, 6, 8, 10]\n",
      "[2, 4, 'hello', 8, 10]\n"
     ]
    }
   ],
   "source": [
    "spam=[2,4,6,8,10]\n",
    "print(spam)\n",
    "spam[2]='hello'\n",
    "print(spam)"
   ]
  },
  {
   "cell_type": "markdown",
   "id": "423f2578",
   "metadata": {},
   "source": [
    "### Let's pretend the spam includes the list ['a','b','c','d'] for the next three queries."
   ]
  },
  {
   "cell_type": "markdown",
   "id": "c3093377",
   "metadata": {},
   "source": [
    "#### 3. What is the value of `spam[int(int('3'*2)//11)]` ?\n",
    "Ans: `'d'`"
   ]
  },
  {
   "cell_type": "code",
   "execution_count": 18,
   "id": "338984fe",
   "metadata": {},
   "outputs": [
    {
     "name": "stdout",
     "output_type": "stream",
     "text": [
      "d\n"
     ]
    }
   ],
   "source": [
    "spam=['a','b','c','d']\n",
    "print(spam[int(int('3'*2)//11)])"
   ]
  },
  {
   "cell_type": "markdown",
   "id": "9e1182c8",
   "metadata": {},
   "source": [
    "#### 4. What is the value of spam[-1]?\n",
    "Ans: `'d'` "
   ]
  },
  {
   "cell_type": "code",
   "execution_count": 16,
   "id": "ee415de9",
   "metadata": {},
   "outputs": [
    {
     "name": "stdout",
     "output_type": "stream",
     "text": [
      "d\n"
     ]
    }
   ],
   "source": [
    "spam=['a','b','c','d']\n",
    "print(spam[-1])"
   ]
  },
  {
   "cell_type": "markdown",
   "id": "95920e0b",
   "metadata": {},
   "source": [
    "#### 5. What is the value of spam[:2]?\n",
    "Ans: `spam[:2]` returns all elements in the list spam from 0 to 2 excluding 2"
   ]
  },
  {
   "cell_type": "code",
   "execution_count": 21,
   "id": "19c06353",
   "metadata": {},
   "outputs": [
    {
     "name": "stdout",
     "output_type": "stream",
     "text": [
      "['a', 'b']\n"
     ]
    }
   ],
   "source": [
    "spam=['a','b','c','d']\n",
    "print(spam[:2])"
   ]
  },
  {
   "cell_type": "markdown",
   "id": "0c597670",
   "metadata": {},
   "source": [
    "### Let's pretend bacon has the list [3.14,'cat',11,'cat',True] for the next three question"
   ]
  },
  {
   "cell_type": "markdown",
   "id": "4532aa75",
   "metadata": {},
   "source": [
    "#### 6. What is the value of bacon.index('cat')?"
   ]
  },
  {
   "cell_type": "markdown",
   "id": "b6d1d5fe",
   "metadata": {},
   "source": [
    "Ans: The value of `bacon.index('cat')` is `1` "
   ]
  },
  {
   "cell_type": "code",
   "execution_count": 23,
   "id": "29ad2c43",
   "metadata": {},
   "outputs": [
    {
     "name": "stdout",
     "output_type": "stream",
     "text": [
      "1\n"
     ]
    }
   ],
   "source": [
    "bacon=[3.14,'cat',11,'cat',True]\n",
    "print(bacon.index('cat'))"
   ]
  },
  {
   "cell_type": "markdown",
   "id": "a6315daa",
   "metadata": {},
   "source": [
    "#### 7. How does bacon.append(99) change the look of the list value in bacon?\n",
    "Ans: The `append` method adds new elements to the end of the list"
   ]
  },
  {
   "cell_type": "code",
   "execution_count": 24,
   "id": "be0ebd05",
   "metadata": {},
   "outputs": [
    {
     "name": "stdout",
     "output_type": "stream",
     "text": [
      "[3.14, 'cat', 11, 'cat', True]\n",
      "[3.14, 'cat', 11, 'cat', True, 99]\n"
     ]
    }
   ],
   "source": [
    "print(bacon)\n",
    "bacon.append(99)\n",
    "print(bacon)"
   ]
  },
  {
   "cell_type": "markdown",
   "id": "85e81927",
   "metadata": {},
   "source": [
    "#### 8. How does bacon.remove('cat') change the look of the list in bacon?\n",
    "**Ans:** The `remove` method removes the first occurence of the element in the list"
   ]
  },
  {
   "cell_type": "code",
   "execution_count": 25,
   "id": "c3aca074",
   "metadata": {},
   "outputs": [
    {
     "name": "stdout",
     "output_type": "stream",
     "text": [
      "[3.14, 'cat', 11, 'cat', True, 99]\n",
      "[3.14, 11, 'cat', True, 99]\n"
     ]
    }
   ],
   "source": [
    "print(bacon)\n",
    "bacon.remove('cat')\n",
    "print(bacon)"
   ]
  },
  {
   "cell_type": "markdown",
   "id": "cdbe3c4a",
   "metadata": {},
   "source": [
    "#### 9. What are the list concatenation and list replication operations?\n",
    "Ans: The operator for list concatenation is `+`, while the operator for replication is `*`. (This is the same as for strings.)"
   ]
  },
  {
   "cell_type": "code",
   "execution_count": 27,
   "id": "bd9dc39a",
   "metadata": {},
   "outputs": [
    {
     "name": "stdout",
     "output_type": "stream",
     "text": [
      "['a', 'b', 'x', 'y', 'abc', 12, 'ineuron', 12, '60']\n",
      "['ineuron', 12, '60', 'ineuron', 12, '60']\n"
     ]
    }
   ],
   "source": [
    "list_1 = ['a','b','x','y','abc',12]\n",
    "list_2 = ['ineuron',12,'60']\n",
    "print(list_1 + list_2) \n",
    "print(list_2*2)"
   ]
  },
  {
   "cell_type": "markdown",
   "id": "d4f9b87c",
   "metadata": {},
   "source": [
    "#### 10.what is the difference between the list method append() and insert()?\n",
    "Ans: `append()` will add values to the end of a list, `insert()` can add them anywhere in the list."
   ]
  },
  {
   "cell_type": "code",
   "execution_count": 33,
   "id": "e2901ff6",
   "metadata": {},
   "outputs": [
    {
     "name": "stdout",
     "output_type": "stream",
     "text": [
      "[1, 2, 3, 4, 5, 'Fsds']\n",
      "[1, 2, 3, 4, 'ineuron', 5, 'Fsds']\n"
     ]
    }
   ],
   "source": [
    "list = [1,2,3,4,5]\n",
    "list.append('Fsds')\n",
    "print(list)\n",
    "list.insert(4,'ineuron')\n",
    "print(list)"
   ]
  },
  {
   "cell_type": "markdown",
   "id": "3b178c74",
   "metadata": {},
   "source": [
    "#### 11. What are the two methods for removing items from a list?\n",
    "Ans: The `del` statement and the `remove()` method are two ways to remove values from a list"
   ]
  },
  {
   "cell_type": "code",
   "execution_count": 34,
   "id": "0f0df3cd",
   "metadata": {},
   "outputs": [
    {
     "data": {
      "text/plain": [
       "[1, 2, 3, 4, 5, 'Fsds']"
      ]
     },
     "execution_count": 34,
     "metadata": {},
     "output_type": "execute_result"
    }
   ],
   "source": [
    "list.remove('ineuron')\n",
    "list"
   ]
  },
  {
   "cell_type": "markdown",
   "id": "3811c0e8",
   "metadata": {},
   "source": [
    "#### 12. Describe how list values and string values are identical.\n",
    "Ans: List values and string values are not identical in Python. However, they do have some similarities.\n",
    "Both lists and strings are sequences of values, and can be indexed, sliced, and iterated over in the same way. For example, you can access individual elements in a list or string using the square bracket"
   ]
  },
  {
   "cell_type": "code",
   "execution_count": 35,
   "id": "6b398bb3",
   "metadata": {},
   "outputs": [
    {
     "name": "stdout",
     "output_type": "stream",
     "text": [
      "3\n",
      "l\n"
     ]
    }
   ],
   "source": [
    "my_list = [1, 2, 3, 4]\n",
    "print(my_list[2])\n",
    "\n",
    "my_string = \"Hello\"\n",
    "print(my_string[2])\n"
   ]
  },
  {
   "cell_type": "markdown",
   "id": "4845136b",
   "metadata": {},
   "source": [
    "#### 13. What's the difference between tuples and lists?\n",
    "Ans: Lists are `Mutable`, `Indexable` and `Slicable`. they can have values added, removed, or changed. Tuples are `Immutable` but `Indexable` and `Slicable`. the tuple values cannot be changed at all. Also, tuples are represented using parentheses, `()`, while lists use the square brackets, `[]`."
   ]
  },
  {
   "cell_type": "markdown",
   "id": "7fa16181",
   "metadata": {},
   "source": [
    "#### 14. How do you type a tuple value that only contains the integer 42?\n",
    "Ans: (42,) (The trailing comma is mandatory. otherwise its considered as a int by python Interpreter)"
   ]
  },
  {
   "cell_type": "code",
   "execution_count": 36,
   "id": "20c9775f",
   "metadata": {},
   "outputs": [
    {
     "name": "stdout",
     "output_type": "stream",
     "text": [
      "<class 'int'>\n",
      "<class 'tuple'>\n"
     ]
    }
   ],
   "source": [
    "tup1=(42)\n",
    "tup2=(42,)\n",
    "print(type(tup1))\n",
    "print(type(tup2))"
   ]
  },
  {
   "cell_type": "markdown",
   "id": "42d87c87",
   "metadata": {},
   "source": [
    "#### 15. How do you get a list value's tuple form? How do you get a tuple value's list form?\n",
    "Ans: The tuple() and list() functions, respectively are used to convert a list to tuple and vice versa"
   ]
  },
  {
   "cell_type": "markdown",
   "id": "eac0fa89",
   "metadata": {},
   "source": [
    "#### 16. Variables that &quot;contain&quot; list values are not necessarily lists themselves. Instead, what do they contain?\n",
    "Ans: They contain references to list values."
   ]
  },
  {
   "cell_type": "markdown",
   "id": "c0f78aa7",
   "metadata": {},
   "source": [
    "#### 17. How do you distinguish between copy.copy() and copy.deepcopy()?\n",
    "Ans: The `copy.copy()` function will do a shallow copy of a list, while the `copy.deepcopy()` function will do a deep copy of a list. That is, only `copy.deepcopy()` will duplicate any lists inside the list."
   ]
  }
 ],
 "metadata": {
  "kernelspec": {
   "display_name": "Python 3",
   "language": "python",
   "name": "python3"
  },
  "language_info": {
   "codemirror_mode": {
    "name": "ipython",
    "version": 3
   },
   "file_extension": ".py",
   "mimetype": "text/x-python",
   "name": "python",
   "nbconvert_exporter": "python",
   "pygments_lexer": "ipython3",
   "version": "3.8.8"
  }
 },
 "nbformat": 4,
 "nbformat_minor": 5
}
